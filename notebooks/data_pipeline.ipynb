{
 "cells": [
  {
   "cell_type": "markdown",
   "metadata": {},
   "source": [
    "## Dependencies"
   ]
  },
  {
   "cell_type": "code",
   "execution_count": null,
   "metadata": {},
   "outputs": [],
   "source": [
    "! pip install pandas\n",
    "! pip install geopandas"
   ]
  },
  {
   "cell_type": "code",
   "execution_count": 56,
   "metadata": {},
   "outputs": [],
   "source": [
    "import pandas as pd\n",
    "import geopandas as gpd\n",
    "import numpy as np\n",
    "import os\n",
    "\n",
    "from urllib.request import urlretrieve"
   ]
  },
  {
   "cell_type": "markdown",
   "metadata": {},
   "source": [
    "## Load Census Data"
   ]
  },
  {
   "cell_type": "code",
   "execution_count": 9,
   "metadata": {},
   "outputs": [],
   "source": [
    "class Census_Data_Provider():\n",
    "  @classmethod\n",
    "  def get_tract_data(self) -> gpd.geodataframe:\n",
    "    if not os.path.exists('content/race_comparison_manhattan.geojson'):\n",
    "      url = '''https://raw.githubusercontent.com/bicdev/tcc/7c10dd978fcac26e6d6eee38629a25e159697faa/cached%20data/race_comparison_manhattan.geojson'''\n",
    "      display(\"downloading cached data from github\")\n",
    "      urlretrieve(url, 'content/race_comparison_manhattan.geojson')\n",
    "    return gpd.read_file('content/race_comparison_manhattan.geojson')"
   ]
  },
  {
   "cell_type": "code",
   "execution_count": null,
   "metadata": {},
   "outputs": [],
   "source": [
    "def get_tracts_racialized(df_race_census: pd.DataFrame, slice_size: int) -> pd.DataFrame:\n",
    "  df_racial_delta = df_race_census[[\n",
    "    'NAME', \n",
    "    'geometry',\n",
    "    'Total:  >  Population of one race:  >  White alone',\n",
    "    'Total:  >  Population of one race:  >  Black or African American alone',\n",
    "    'Total:  >  Population of one race:  >  American Indian and Alaska Native alone',\n",
    "    'Total:  >  Population of one race:  >  Asian alone',\n",
    "    'Total:  >  Population of one race:  >  Native Hawaiian and Other Pacific Islander alone',\n",
    "    'Total:  >  Population of one race:  >  Some Other Race alone'\n",
    "  ]]\n",
    "\n",
    "  df_racial_delta['Racial Ratio'] = pd.Series()\n",
    "  df_racial_delta['Racial Label'] = pd.Series()\n",
    "  \n",
    "  for i, row in df_racial_delta.iterrows():\n",
    "    whites = row['Total:  >  Population of one race:  >  White alone']\n",
    "    non_whites = (\n",
    "      row['Total:  >  Population of one race:  >  Black or African American alone'] +\n",
    "      row['Total:  >  Population of one race:  >  American Indian and Alaska Native alone'] +\n",
    "      row['Total:  >  Population of one race:  >  Asian alone'] +\n",
    "      row['Total:  >  Population of one race:  >  Native Hawaiian and Other Pacific Islander alone'] +\n",
    "      row['Total:  >  Population of one race:  >  Some Other Race alone']\n",
    "    )\n",
    "\n",
    "    if whites > non_whites:\n",
    "      label = \"Whites\"\n",
    "    elif whites < non_whites:\n",
    "      label = \"Non-Whites\"\n",
    "    else:\n",
    "      label = \"None\"\n",
    "\n",
    "    if whites == 0.0 or non_whites == 0.0:\n",
    "      ratio = 0\n",
    "      label = \"None\"\n",
    "    else:\n",
    "      ratio = min(whites, non_whites) / max(whites, non_whites)\n",
    "    \n",
    "    df_racial_delta.loc[i,'Racial Ratio'] = ratio\n",
    "    df_racial_delta.loc[i,'Racial Label'] = label\n",
    "\n",
    "  df_racial_delta.sort_values(by='Racial Ratio', ascending=False, inplace=True)\n",
    "  df_racial_delta.reset_index(inplace=True)\n",
    "  ids_to_drop = df_racial_delta[df_racial_delta['Racial Label'] == \"None\"].index\n",
    "  df_racial_delta.drop(ids_to_drop, inplace=True)\n",
    "\n",
    "  gdf_top_slice_racialized = gpd.GeoDataFrame(\n",
    "    df_racial_delta,\n",
    "    geometry=df_racial_delta['geometry'],\n",
    "    crs=4326)\n",
    "\n",
    "  return gdf_top_slice_racialized"
   ]
  }
 ],
 "metadata": {
  "kernelspec": {
   "display_name": ".venv",
   "language": "python",
   "name": "python3"
  },
  "language_info": {
   "codemirror_mode": {
    "name": "ipython",
    "version": 3
   },
   "file_extension": ".py",
   "mimetype": "text/x-python",
   "name": "python",
   "nbconvert_exporter": "python",
   "pygments_lexer": "ipython3",
   "version": "3.9.13"
  }
 },
 "nbformat": 4,
 "nbformat_minor": 2
}
