{
 "cells": [
  {
   "cell_type": "markdown",
   "metadata": {},
   "source": [
    "# Dependencies"
   ]
  },
  {
   "cell_type": "code",
   "execution_count": 38,
   "metadata": {},
   "outputs": [],
   "source": [
    "import os\n",
    "import pathlib\n",
    "import datetime\n",
    "\n",
    "import pandas as pd\n",
    "import numpy as np\n",
    "import matplotlib.pyplot as plt\n",
    "\n",
    "from sklearn.model_selection import train_test_split\n",
    "from sklearn.preprocessing import StandardScaler, LabelEncoder\n",
    "\n",
    "import tensorflow as tf\n",
    "import keras\n",
    "import pickleshare\n",
    "from tensorflow.keras.models import Sequential\n",
    "from tensorflow.keras import layers\n",
    "\n",
    "from sklearn.metrics import mean_squared_error, mean_absolute_error, r2_score, mean_absolute_percentage_error"
   ]
  },
  {
   "cell_type": "code",
   "execution_count": null,
   "metadata": {},
   "outputs": [],
   "source": [
    "with open('202001-citibike-tripdata_1.csv', 'r') as file:\n",
    "    df_base = pd.read_csv(file, parse_dates=['started_at', 'ended_at'])\n",
    "\n",
    "%store df_base"
   ]
  },
  {
   "cell_type": "code",
   "execution_count": null,
   "metadata": {},
   "outputs": [],
   "source": [
    "%store -r df_base"
   ]
  },
  {
   "cell_type": "markdown",
   "metadata": {},
   "source": [
    "# Data prep"
   ]
  },
  {
   "cell_type": "code",
   "execution_count": 7,
   "metadata": {},
   "outputs": [],
   "source": [
    "df_base['day'] = df_base['started_at'].dt.day\n",
    "df_base['hour'] = df_base['started_at'].dt.hour\n",
    "df_base['weekday'] = df_base['started_at'].dt.dayofweek\n",
    "df_base['trip_duration'] = (df_base['ended_at'] - df_base['started_at']).dt.total_seconds()"
   ]
  },
  {
   "cell_type": "code",
   "execution_count": 8,
   "metadata": {},
   "outputs": [],
   "source": [
    "df_agg = df_base.groupby(['start_station_id','day','hour', 'weekday']).agg(\n",
    "    trip_amount=('ride_id', 'count'),  # Count of 'ride_id'\n",
    "    avg_trip_duration=('trip_duration', 'mean'),  # Average of 'trip_duration'\n",
    "  ).reset_index()"
   ]
  },
  {
   "cell_type": "code",
   "execution_count": 9,
   "metadata": {},
   "outputs": [],
   "source": [
    "df_one_hot = pd.get_dummies(df_agg, columns=['start_station_id'], prefix=\"start_station_id\", dummy_na=False)"
   ]
  },
  {
   "cell_type": "code",
   "execution_count": 11,
   "metadata": {},
   "outputs": [],
   "source": [
    "X = df_one_hot.drop(\"trip_amount\", axis=1)\n",
    "Y = df_one_hot[\"trip_amount\"]"
   ]
  },
  {
   "cell_type": "code",
   "execution_count": 12,
   "metadata": {},
   "outputs": [],
   "source": [
    "X_train, X_val, Y_train, Y_val = train_test_split(X, Y, test_size=0.2, random_state=42)"
   ]
  },
  {
   "cell_type": "code",
   "execution_count": 13,
   "metadata": {},
   "outputs": [],
   "source": [
    "NUMERICAL_COLUMNS = ['day', 'hour', 'avg_trip_duration']\n",
    "CATEGORICAL_COLUMN = 'weekday'"
   ]
  },
  {
   "cell_type": "code",
   "execution_count": 14,
   "metadata": {},
   "outputs": [],
   "source": [
    "scaler = StandardScaler()\n",
    "X_train_scaled_np = scaler.fit_transform(X_train)\n",
    "X_test_scaled_np = scaler.transform(X_val)"
   ]
  },
  {
   "cell_type": "code",
   "execution_count": 20,
   "metadata": {},
   "outputs": [],
   "source": [
    "X_train_scaled = pd.DataFrame(X_train_scaled_np, columns=X_train.columns, index=X_train.index)\n",
    "X_test_scaled = pd.DataFrame(X_test_scaled_np, columns=X_val.columns, index=X_val.index)"
   ]
  },
  {
   "cell_type": "code",
   "execution_count": 15,
   "metadata": {},
   "outputs": [],
   "source": [
    "input_shape = (X_train_scaled_np.shape[1],)"
   ]
  },
  {
   "cell_type": "markdown",
   "metadata": {},
   "source": [
    "# Training"
   ]
  },
  {
   "cell_type": "code",
   "execution_count": 17,
   "metadata": {},
   "outputs": [
    {
     "name": "stderr",
     "output_type": "stream",
     "text": [
      "e:\\TCC\\.venv\\lib\\site-packages\\keras\\src\\layers\\core\\input_layer.py:27: UserWarning: Argument `input_shape` is deprecated. Use `shape` instead.\n",
      "  warnings.warn(\n"
     ]
    }
   ],
   "source": [
    "model = keras.Sequential(\n",
    "    [\n",
    "        layers.InputLayer(input_shape=input_shape), # Define the input shape\n",
    "        layers.Normalization(axis=-1), # This layer would need to be .adapt()-ed\n",
    "        layers.Dense(64, activation=\"relu\", name=\"dense_1\"),\n",
    "        layers.Dropout(0.3), # Dropout for regularization\n",
    "        layers.Dense(32, activation=\"relu\", name=\"dense_2\"),\n",
    "        layers.Dropout(0.2),\n",
    "        layers.Dense(1, name=\"output_layer\"),  # Output layer for regression (1 neuron, linear activation by default)\n",
    "    ]\n",
    ")"
   ]
  },
  {
   "cell_type": "code",
   "execution_count": 18,
   "metadata": {},
   "outputs": [],
   "source": [
    "model.compile(\n",
    "    optimizer=keras.optimizers.Adam(learning_rate=0.001),\n",
    "    loss=\"mean_squared_error\",  # Common loss for regression\n",
    "    metrics=[\"mean_absolute_error\"],  # MAE is easier to interpret\n",
    ")"
   ]
  },
  {
   "cell_type": "code",
   "execution_count": 19,
   "metadata": {},
   "outputs": [
    {
     "data": {
      "text/html": [
       "<pre style=\"white-space:pre;overflow-x:auto;line-height:normal;font-family:Menlo,'DejaVu Sans Mono',consolas,'Courier New',monospace\"><span style=\"font-weight: bold\">Model: \"sequential\"</span>\n",
       "</pre>\n"
      ],
      "text/plain": [
       "\u001b[1mModel: \"sequential\"\u001b[0m\n"
      ]
     },
     "metadata": {},
     "output_type": "display_data"
    },
    {
     "data": {
      "text/html": [
       "<pre style=\"white-space:pre;overflow-x:auto;line-height:normal;font-family:Menlo,'DejaVu Sans Mono',consolas,'Courier New',monospace\">┏━━━━━━━━━━━━━━━━━━━━━━━━━━━━━━━━━┳━━━━━━━━━━━━━━━━━━━━━━━━┳━━━━━━━━━━━━━━━┓\n",
       "┃<span style=\"font-weight: bold\"> Layer (type)                    </span>┃<span style=\"font-weight: bold\"> Output Shape           </span>┃<span style=\"font-weight: bold\">       Param # </span>┃\n",
       "┡━━━━━━━━━━━━━━━━━━━━━━━━━━━━━━━━━╇━━━━━━━━━━━━━━━━━━━━━━━━╇━━━━━━━━━━━━━━━┩\n",
       "│ normalization (<span style=\"color: #0087ff; text-decoration-color: #0087ff\">Normalization</span>)   │ (<span style=\"color: #00d7ff; text-decoration-color: #00d7ff\">None</span>, <span style=\"color: #00af00; text-decoration-color: #00af00\">1793</span>)           │         <span style=\"color: #00af00; text-decoration-color: #00af00\">3,587</span> │\n",
       "├─────────────────────────────────┼────────────────────────┼───────────────┤\n",
       "│ dense_1 (<span style=\"color: #0087ff; text-decoration-color: #0087ff\">Dense</span>)                 │ (<span style=\"color: #00d7ff; text-decoration-color: #00d7ff\">None</span>, <span style=\"color: #00af00; text-decoration-color: #00af00\">64</span>)             │       <span style=\"color: #00af00; text-decoration-color: #00af00\">114,816</span> │\n",
       "├─────────────────────────────────┼────────────────────────┼───────────────┤\n",
       "│ dropout (<span style=\"color: #0087ff; text-decoration-color: #0087ff\">Dropout</span>)               │ (<span style=\"color: #00d7ff; text-decoration-color: #00d7ff\">None</span>, <span style=\"color: #00af00; text-decoration-color: #00af00\">64</span>)             │             <span style=\"color: #00af00; text-decoration-color: #00af00\">0</span> │\n",
       "├─────────────────────────────────┼────────────────────────┼───────────────┤\n",
       "│ dense_2 (<span style=\"color: #0087ff; text-decoration-color: #0087ff\">Dense</span>)                 │ (<span style=\"color: #00d7ff; text-decoration-color: #00d7ff\">None</span>, <span style=\"color: #00af00; text-decoration-color: #00af00\">32</span>)             │         <span style=\"color: #00af00; text-decoration-color: #00af00\">2,080</span> │\n",
       "├─────────────────────────────────┼────────────────────────┼───────────────┤\n",
       "│ dropout_1 (<span style=\"color: #0087ff; text-decoration-color: #0087ff\">Dropout</span>)             │ (<span style=\"color: #00d7ff; text-decoration-color: #00d7ff\">None</span>, <span style=\"color: #00af00; text-decoration-color: #00af00\">32</span>)             │             <span style=\"color: #00af00; text-decoration-color: #00af00\">0</span> │\n",
       "├─────────────────────────────────┼────────────────────────┼───────────────┤\n",
       "│ output_layer (<span style=\"color: #0087ff; text-decoration-color: #0087ff\">Dense</span>)            │ (<span style=\"color: #00d7ff; text-decoration-color: #00d7ff\">None</span>, <span style=\"color: #00af00; text-decoration-color: #00af00\">1</span>)              │            <span style=\"color: #00af00; text-decoration-color: #00af00\">33</span> │\n",
       "└─────────────────────────────────┴────────────────────────┴───────────────┘\n",
       "</pre>\n"
      ],
      "text/plain": [
       "┏━━━━━━━━━━━━━━━━━━━━━━━━━━━━━━━━━┳━━━━━━━━━━━━━━━━━━━━━━━━┳━━━━━━━━━━━━━━━┓\n",
       "┃\u001b[1m \u001b[0m\u001b[1mLayer (type)                   \u001b[0m\u001b[1m \u001b[0m┃\u001b[1m \u001b[0m\u001b[1mOutput Shape          \u001b[0m\u001b[1m \u001b[0m┃\u001b[1m \u001b[0m\u001b[1m      Param #\u001b[0m\u001b[1m \u001b[0m┃\n",
       "┡━━━━━━━━━━━━━━━━━━━━━━━━━━━━━━━━━╇━━━━━━━━━━━━━━━━━━━━━━━━╇━━━━━━━━━━━━━━━┩\n",
       "│ normalization (\u001b[38;5;33mNormalization\u001b[0m)   │ (\u001b[38;5;45mNone\u001b[0m, \u001b[38;5;34m1793\u001b[0m)           │         \u001b[38;5;34m3,587\u001b[0m │\n",
       "├─────────────────────────────────┼────────────────────────┼───────────────┤\n",
       "│ dense_1 (\u001b[38;5;33mDense\u001b[0m)                 │ (\u001b[38;5;45mNone\u001b[0m, \u001b[38;5;34m64\u001b[0m)             │       \u001b[38;5;34m114,816\u001b[0m │\n",
       "├─────────────────────────────────┼────────────────────────┼───────────────┤\n",
       "│ dropout (\u001b[38;5;33mDropout\u001b[0m)               │ (\u001b[38;5;45mNone\u001b[0m, \u001b[38;5;34m64\u001b[0m)             │             \u001b[38;5;34m0\u001b[0m │\n",
       "├─────────────────────────────────┼────────────────────────┼───────────────┤\n",
       "│ dense_2 (\u001b[38;5;33mDense\u001b[0m)                 │ (\u001b[38;5;45mNone\u001b[0m, \u001b[38;5;34m32\u001b[0m)             │         \u001b[38;5;34m2,080\u001b[0m │\n",
       "├─────────────────────────────────┼────────────────────────┼───────────────┤\n",
       "│ dropout_1 (\u001b[38;5;33mDropout\u001b[0m)             │ (\u001b[38;5;45mNone\u001b[0m, \u001b[38;5;34m32\u001b[0m)             │             \u001b[38;5;34m0\u001b[0m │\n",
       "├─────────────────────────────────┼────────────────────────┼───────────────┤\n",
       "│ output_layer (\u001b[38;5;33mDense\u001b[0m)            │ (\u001b[38;5;45mNone\u001b[0m, \u001b[38;5;34m1\u001b[0m)              │            \u001b[38;5;34m33\u001b[0m │\n",
       "└─────────────────────────────────┴────────────────────────┴───────────────┘\n"
      ]
     },
     "metadata": {},
     "output_type": "display_data"
    },
    {
     "data": {
      "text/html": [
       "<pre style=\"white-space:pre;overflow-x:auto;line-height:normal;font-family:Menlo,'DejaVu Sans Mono',consolas,'Courier New',monospace\"><span style=\"font-weight: bold\"> Total params: </span><span style=\"color: #00af00; text-decoration-color: #00af00\">120,516</span> (470.77 KB)\n",
       "</pre>\n"
      ],
      "text/plain": [
       "\u001b[1m Total params: \u001b[0m\u001b[38;5;34m120,516\u001b[0m (470.77 KB)\n"
      ]
     },
     "metadata": {},
     "output_type": "display_data"
    },
    {
     "data": {
      "text/html": [
       "<pre style=\"white-space:pre;overflow-x:auto;line-height:normal;font-family:Menlo,'DejaVu Sans Mono',consolas,'Courier New',monospace\"><span style=\"font-weight: bold\"> Trainable params: </span><span style=\"color: #00af00; text-decoration-color: #00af00\">116,929</span> (456.75 KB)\n",
       "</pre>\n"
      ],
      "text/plain": [
       "\u001b[1m Trainable params: \u001b[0m\u001b[38;5;34m116,929\u001b[0m (456.75 KB)\n"
      ]
     },
     "metadata": {},
     "output_type": "display_data"
    },
    {
     "data": {
      "text/html": [
       "<pre style=\"white-space:pre;overflow-x:auto;line-height:normal;font-family:Menlo,'DejaVu Sans Mono',consolas,'Courier New',monospace\"><span style=\"font-weight: bold\"> Non-trainable params: </span><span style=\"color: #00af00; text-decoration-color: #00af00\">3,587</span> (14.02 KB)\n",
       "</pre>\n"
      ],
      "text/plain": [
       "\u001b[1m Non-trainable params: \u001b[0m\u001b[38;5;34m3,587\u001b[0m (14.02 KB)\n"
      ]
     },
     "metadata": {},
     "output_type": "display_data"
    }
   ],
   "source": [
    "model.summary()"
   ]
  },
  {
   "cell_type": "code",
   "execution_count": 21,
   "metadata": {},
   "outputs": [
    {
     "name": "stdout",
     "output_type": "stream",
     "text": [
      "Epoch 1/50\n",
      "\u001b[1m8309/8309\u001b[0m \u001b[32m━━━━━━━━━━━━━━━━━━━━\u001b[0m\u001b[37m\u001b[0m \u001b[1m18s\u001b[0m 2ms/step - loss: 5.5776 - mean_absolute_error: 1.4496 - val_loss: 4.9552 - val_mean_absolute_error: 1.2896\n",
      "Epoch 2/50\n",
      "\u001b[1m8309/8309\u001b[0m \u001b[32m━━━━━━━━━━━━━━━━━━━━\u001b[0m\u001b[37m\u001b[0m \u001b[1m15s\u001b[0m 2ms/step - loss: 4.6817 - mean_absolute_error: 1.3236 - val_loss: 4.4894 - val_mean_absolute_error: 1.2606\n",
      "Epoch 3/50\n",
      "\u001b[1m8309/8309\u001b[0m \u001b[32m━━━━━━━━━━━━━━━━━━━━\u001b[0m\u001b[37m\u001b[0m \u001b[1m16s\u001b[0m 2ms/step - loss: 4.4011 - mean_absolute_error: 1.2827 - val_loss: 4.3062 - val_mean_absolute_error: 1.2213\n",
      "Epoch 4/50\n",
      "\u001b[1m8309/8309\u001b[0m \u001b[32m━━━━━━━━━━━━━━━━━━━━\u001b[0m\u001b[37m\u001b[0m \u001b[1m15s\u001b[0m 2ms/step - loss: 4.2685 - mean_absolute_error: 1.2715 - val_loss: 4.2470 - val_mean_absolute_error: 1.2106\n",
      "Epoch 5/50\n",
      "\u001b[1m8309/8309\u001b[0m \u001b[32m━━━━━━━━━━━━━━━━━━━━\u001b[0m\u001b[37m\u001b[0m \u001b[1m15s\u001b[0m 2ms/step - loss: 4.1578 - mean_absolute_error: 1.2559 - val_loss: 4.0625 - val_mean_absolute_error: 1.2000\n",
      "Epoch 6/50\n",
      "\u001b[1m8309/8309\u001b[0m \u001b[32m━━━━━━━━━━━━━━━━━━━━\u001b[0m\u001b[37m\u001b[0m \u001b[1m15s\u001b[0m 2ms/step - loss: 4.1863 - mean_absolute_error: 1.2539 - val_loss: 4.0804 - val_mean_absolute_error: 1.1960\n",
      "Epoch 7/50\n",
      "\u001b[1m8309/8309\u001b[0m \u001b[32m━━━━━━━━━━━━━━━━━━━━\u001b[0m\u001b[37m\u001b[0m \u001b[1m15s\u001b[0m 2ms/step - loss: 4.1576 - mean_absolute_error: 1.2464 - val_loss: 4.0817 - val_mean_absolute_error: 1.1913\n",
      "Epoch 8/50\n",
      "\u001b[1m8309/8309\u001b[0m \u001b[32m━━━━━━━━━━━━━━━━━━━━\u001b[0m\u001b[37m\u001b[0m \u001b[1m15s\u001b[0m 2ms/step - loss: 4.0630 - mean_absolute_error: 1.2401 - val_loss: 3.9829 - val_mean_absolute_error: 1.2068\n",
      "Epoch 9/50\n",
      "\u001b[1m8309/8309\u001b[0m \u001b[32m━━━━━━━━━━━━━━━━━━━━\u001b[0m\u001b[37m\u001b[0m \u001b[1m16s\u001b[0m 2ms/step - loss: 4.0006 - mean_absolute_error: 1.2381 - val_loss: 4.0303 - val_mean_absolute_error: 1.1863\n",
      "Epoch 10/50\n",
      "\u001b[1m8309/8309\u001b[0m \u001b[32m━━━━━━━━━━━━━━━━━━━━\u001b[0m\u001b[37m\u001b[0m \u001b[1m15s\u001b[0m 2ms/step - loss: 3.9918 - mean_absolute_error: 1.2305 - val_loss: 4.0624 - val_mean_absolute_error: 1.1629\n",
      "Epoch 11/50\n",
      "\u001b[1m8309/8309\u001b[0m \u001b[32m━━━━━━━━━━━━━━━━━━━━\u001b[0m\u001b[37m\u001b[0m \u001b[1m16s\u001b[0m 2ms/step - loss: 3.9711 - mean_absolute_error: 1.2284 - val_loss: 4.0169 - val_mean_absolute_error: 1.1749\n",
      "Epoch 12/50\n",
      "\u001b[1m8309/8309\u001b[0m \u001b[32m━━━━━━━━━━━━━━━━━━━━\u001b[0m\u001b[37m\u001b[0m \u001b[1m15s\u001b[0m 2ms/step - loss: 4.0566 - mean_absolute_error: 1.2316 - val_loss: 3.9211 - val_mean_absolute_error: 1.1811\n",
      "Epoch 13/50\n",
      "\u001b[1m8309/8309\u001b[0m \u001b[32m━━━━━━━━━━━━━━━━━━━━\u001b[0m\u001b[37m\u001b[0m \u001b[1m15s\u001b[0m 2ms/step - loss: 3.9019 - mean_absolute_error: 1.2170 - val_loss: 3.8842 - val_mean_absolute_error: 1.1870\n",
      "Epoch 14/50\n",
      "\u001b[1m8309/8309\u001b[0m \u001b[32m━━━━━━━━━━━━━━━━━━━━\u001b[0m\u001b[37m\u001b[0m \u001b[1m15s\u001b[0m 2ms/step - loss: 3.8723 - mean_absolute_error: 1.2166 - val_loss: 3.8085 - val_mean_absolute_error: 1.1797\n",
      "Epoch 15/50\n",
      "\u001b[1m8309/8309\u001b[0m \u001b[32m━━━━━━━━━━━━━━━━━━━━\u001b[0m\u001b[37m\u001b[0m \u001b[1m15s\u001b[0m 2ms/step - loss: 3.8908 - mean_absolute_error: 1.2173 - val_loss: 3.8354 - val_mean_absolute_error: 1.1510\n",
      "Epoch 16/50\n",
      "\u001b[1m8309/8309\u001b[0m \u001b[32m━━━━━━━━━━━━━━━━━━━━\u001b[0m\u001b[37m\u001b[0m \u001b[1m15s\u001b[0m 2ms/step - loss: 3.9634 - mean_absolute_error: 1.2231 - val_loss: 3.9537 - val_mean_absolute_error: 1.1638\n",
      "Epoch 17/50\n",
      "\u001b[1m8309/8309\u001b[0m \u001b[32m━━━━━━━━━━━━━━━━━━━━\u001b[0m\u001b[37m\u001b[0m \u001b[1m15s\u001b[0m 2ms/step - loss: 3.8762 - mean_absolute_error: 1.2138 - val_loss: 3.8350 - val_mean_absolute_error: 1.1502\n",
      "Epoch 18/50\n",
      "\u001b[1m8309/8309\u001b[0m \u001b[32m━━━━━━━━━━━━━━━━━━━━\u001b[0m\u001b[37m\u001b[0m \u001b[1m15s\u001b[0m 2ms/step - loss: 3.8379 - mean_absolute_error: 1.2090 - val_loss: 3.8681 - val_mean_absolute_error: 1.1796\n",
      "Epoch 19/50\n",
      "\u001b[1m8309/8309\u001b[0m \u001b[32m━━━━━━━━━━━━━━━━━━━━\u001b[0m\u001b[37m\u001b[0m \u001b[1m16s\u001b[0m 2ms/step - loss: 3.8658 - mean_absolute_error: 1.2149 - val_loss: 3.7455 - val_mean_absolute_error: 1.1676\n",
      "Epoch 20/50\n",
      "\u001b[1m8309/8309\u001b[0m \u001b[32m━━━━━━━━━━━━━━━━━━━━\u001b[0m\u001b[37m\u001b[0m \u001b[1m15s\u001b[0m 2ms/step - loss: 3.8145 - mean_absolute_error: 1.2049 - val_loss: 3.8862 - val_mean_absolute_error: 1.1682\n",
      "Epoch 21/50\n",
      "\u001b[1m8309/8309\u001b[0m \u001b[32m━━━━━━━━━━━━━━━━━━━━\u001b[0m\u001b[37m\u001b[0m \u001b[1m16s\u001b[0m 2ms/step - loss: 3.7847 - mean_absolute_error: 1.2022 - val_loss: 3.7238 - val_mean_absolute_error: 1.1636\n",
      "Epoch 22/50\n",
      "\u001b[1m8309/8309\u001b[0m \u001b[32m━━━━━━━━━━━━━━━━━━━━\u001b[0m\u001b[37m\u001b[0m \u001b[1m16s\u001b[0m 2ms/step - loss: 3.7915 - mean_absolute_error: 1.2014 - val_loss: 3.7314 - val_mean_absolute_error: 1.1592\n",
      "Epoch 23/50\n",
      "\u001b[1m8309/8309\u001b[0m \u001b[32m━━━━━━━━━━━━━━━━━━━━\u001b[0m\u001b[37m\u001b[0m \u001b[1m16s\u001b[0m 2ms/step - loss: 3.7860 - mean_absolute_error: 1.2045 - val_loss: 3.8245 - val_mean_absolute_error: 1.1797\n",
      "Epoch 24/50\n",
      "\u001b[1m8309/8309\u001b[0m \u001b[32m━━━━━━━━━━━━━━━━━━━━\u001b[0m\u001b[37m\u001b[0m \u001b[1m16s\u001b[0m 2ms/step - loss: 3.7547 - mean_absolute_error: 1.1999 - val_loss: 3.6606 - val_mean_absolute_error: 1.1622\n",
      "Epoch 25/50\n",
      "\u001b[1m8309/8309\u001b[0m \u001b[32m━━━━━━━━━━━━━━━━━━━━\u001b[0m\u001b[37m\u001b[0m \u001b[1m17s\u001b[0m 2ms/step - loss: 3.7708 - mean_absolute_error: 1.2015 - val_loss: 3.7652 - val_mean_absolute_error: 1.1585\n",
      "Epoch 26/50\n",
      "\u001b[1m8309/8309\u001b[0m \u001b[32m━━━━━━━━━━━━━━━━━━━━\u001b[0m\u001b[37m\u001b[0m \u001b[1m18s\u001b[0m 2ms/step - loss: 3.7636 - mean_absolute_error: 1.1957 - val_loss: 3.8174 - val_mean_absolute_error: 1.1313\n",
      "Epoch 27/50\n",
      "\u001b[1m8309/8309\u001b[0m \u001b[32m━━━━━━━━━━━━━━━━━━━━\u001b[0m\u001b[37m\u001b[0m \u001b[1m16s\u001b[0m 2ms/step - loss: 3.7630 - mean_absolute_error: 1.1944 - val_loss: 3.6028 - val_mean_absolute_error: 1.1505\n",
      "Epoch 28/50\n",
      "\u001b[1m8309/8309\u001b[0m \u001b[32m━━━━━━━━━━━━━━━━━━━━\u001b[0m\u001b[37m\u001b[0m \u001b[1m19s\u001b[0m 2ms/step - loss: 3.7762 - mean_absolute_error: 1.1981 - val_loss: 3.7080 - val_mean_absolute_error: 1.1325\n",
      "Epoch 29/50\n",
      "\u001b[1m8309/8309\u001b[0m \u001b[32m━━━━━━━━━━━━━━━━━━━━\u001b[0m\u001b[37m\u001b[0m \u001b[1m17s\u001b[0m 2ms/step - loss: 3.7404 - mean_absolute_error: 1.1928 - val_loss: 3.7021 - val_mean_absolute_error: 1.1569\n",
      "Epoch 30/50\n",
      "\u001b[1m8309/8309\u001b[0m \u001b[32m━━━━━━━━━━━━━━━━━━━━\u001b[0m\u001b[37m\u001b[0m \u001b[1m17s\u001b[0m 2ms/step - loss: 3.7052 - mean_absolute_error: 1.1907 - val_loss: 3.9015 - val_mean_absolute_error: 1.1599\n",
      "Epoch 31/50\n",
      "\u001b[1m8309/8309\u001b[0m \u001b[32m━━━━━━━━━━━━━━━━━━━━\u001b[0m\u001b[37m\u001b[0m \u001b[1m17s\u001b[0m 2ms/step - loss: 3.7368 - mean_absolute_error: 1.1946 - val_loss: 3.7568 - val_mean_absolute_error: 1.1580\n",
      "Epoch 32/50\n",
      "\u001b[1m8309/8309\u001b[0m \u001b[32m━━━━━━━━━━━━━━━━━━━━\u001b[0m\u001b[37m\u001b[0m \u001b[1m17s\u001b[0m 2ms/step - loss: 3.7180 - mean_absolute_error: 1.1920 - val_loss: 3.7571 - val_mean_absolute_error: 1.1353\n",
      "Epoch 33/50\n",
      "\u001b[1m8309/8309\u001b[0m \u001b[32m━━━━━━━━━━━━━━━━━━━━\u001b[0m\u001b[37m\u001b[0m \u001b[1m16s\u001b[0m 2ms/step - loss: 3.6467 - mean_absolute_error: 1.1844 - val_loss: 3.5863 - val_mean_absolute_error: 1.1257\n",
      "Epoch 34/50\n",
      "\u001b[1m8309/8309\u001b[0m \u001b[32m━━━━━━━━━━━━━━━━━━━━\u001b[0m\u001b[37m\u001b[0m \u001b[1m16s\u001b[0m 2ms/step - loss: 3.6608 - mean_absolute_error: 1.1869 - val_loss: 3.6961 - val_mean_absolute_error: 1.1477\n",
      "Epoch 35/50\n",
      "\u001b[1m8309/8309\u001b[0m \u001b[32m━━━━━━━━━━━━━━━━━━━━\u001b[0m\u001b[37m\u001b[0m \u001b[1m15s\u001b[0m 2ms/step - loss: 3.7618 - mean_absolute_error: 1.1909 - val_loss: 3.6563 - val_mean_absolute_error: 1.1200\n",
      "Epoch 36/50\n",
      "\u001b[1m8309/8309\u001b[0m \u001b[32m━━━━━━━━━━━━━━━━━━━━\u001b[0m\u001b[37m\u001b[0m \u001b[1m15s\u001b[0m 2ms/step - loss: 3.6721 - mean_absolute_error: 1.1840 - val_loss: 3.6009 - val_mean_absolute_error: 1.1422\n",
      "Epoch 37/50\n",
      "\u001b[1m8309/8309\u001b[0m \u001b[32m━━━━━━━━━━━━━━━━━━━━\u001b[0m\u001b[37m\u001b[0m \u001b[1m17s\u001b[0m 2ms/step - loss: 3.6644 - mean_absolute_error: 1.1805 - val_loss: 3.6292 - val_mean_absolute_error: 1.1444\n",
      "Epoch 38/50\n",
      "\u001b[1m8309/8309\u001b[0m \u001b[32m━━━━━━━━━━━━━━━━━━━━\u001b[0m\u001b[37m\u001b[0m \u001b[1m17s\u001b[0m 2ms/step - loss: 3.6416 - mean_absolute_error: 1.1789 - val_loss: 3.7697 - val_mean_absolute_error: 1.1487\n",
      "Epoch 39/50\n",
      "\u001b[1m8309/8309\u001b[0m \u001b[32m━━━━━━━━━━━━━━━━━━━━\u001b[0m\u001b[37m\u001b[0m \u001b[1m15s\u001b[0m 2ms/step - loss: 3.6392 - mean_absolute_error: 1.1814 - val_loss: 3.6234 - val_mean_absolute_error: 1.1468\n",
      "Epoch 40/50\n",
      "\u001b[1m8309/8309\u001b[0m \u001b[32m━━━━━━━━━━━━━━━━━━━━\u001b[0m\u001b[37m\u001b[0m \u001b[1m15s\u001b[0m 2ms/step - loss: 3.6224 - mean_absolute_error: 1.1785 - val_loss: 3.5657 - val_mean_absolute_error: 1.1466\n",
      "Epoch 41/50\n",
      "\u001b[1m8309/8309\u001b[0m \u001b[32m━━━━━━━━━━━━━━━━━━━━\u001b[0m\u001b[37m\u001b[0m \u001b[1m15s\u001b[0m 2ms/step - loss: 3.6525 - mean_absolute_error: 1.1860 - val_loss: 3.6805 - val_mean_absolute_error: 1.1366\n",
      "Epoch 42/50\n",
      "\u001b[1m8309/8309\u001b[0m \u001b[32m━━━━━━━━━━━━━━━━━━━━\u001b[0m\u001b[37m\u001b[0m \u001b[1m16s\u001b[0m 2ms/step - loss: 3.6037 - mean_absolute_error: 1.1783 - val_loss: 3.7097 - val_mean_absolute_error: 1.1141\n",
      "Epoch 43/50\n",
      "\u001b[1m8309/8309\u001b[0m \u001b[32m━━━━━━━━━━━━━━━━━━━━\u001b[0m\u001b[37m\u001b[0m \u001b[1m16s\u001b[0m 2ms/step - loss: 3.6360 - mean_absolute_error: 1.1794 - val_loss: 3.6630 - val_mean_absolute_error: 1.1363\n",
      "Epoch 44/50\n",
      "\u001b[1m8309/8309\u001b[0m \u001b[32m━━━━━━━━━━━━━━━━━━━━\u001b[0m\u001b[37m\u001b[0m \u001b[1m16s\u001b[0m 2ms/step - loss: 3.6162 - mean_absolute_error: 1.1783 - val_loss: 3.6530 - val_mean_absolute_error: 1.1370\n",
      "Epoch 45/50\n",
      "\u001b[1m8309/8309\u001b[0m \u001b[32m━━━━━━━━━━━━━━━━━━━━\u001b[0m\u001b[37m\u001b[0m \u001b[1m15s\u001b[0m 2ms/step - loss: 3.6159 - mean_absolute_error: 1.1751 - val_loss: 3.5763 - val_mean_absolute_error: 1.1406\n",
      "Epoch 46/50\n",
      "\u001b[1m8309/8309\u001b[0m \u001b[32m━━━━━━━━━━━━━━━━━━━━\u001b[0m\u001b[37m\u001b[0m \u001b[1m16s\u001b[0m 2ms/step - loss: 3.5981 - mean_absolute_error: 1.1753 - val_loss: 3.6422 - val_mean_absolute_error: 1.1645\n",
      "Epoch 47/50\n",
      "\u001b[1m8309/8309\u001b[0m \u001b[32m━━━━━━━━━━━━━━━━━━━━\u001b[0m\u001b[37m\u001b[0m \u001b[1m15s\u001b[0m 2ms/step - loss: 3.5367 - mean_absolute_error: 1.1691 - val_loss: 3.7030 - val_mean_absolute_error: 1.1538\n",
      "Epoch 48/50\n",
      "\u001b[1m8309/8309\u001b[0m \u001b[32m━━━━━━━━━━━━━━━━━━━━\u001b[0m\u001b[37m\u001b[0m \u001b[1m16s\u001b[0m 2ms/step - loss: 3.5806 - mean_absolute_error: 1.1697 - val_loss: 3.5804 - val_mean_absolute_error: 1.1465\n",
      "Epoch 49/50\n",
      "\u001b[1m8309/8309\u001b[0m \u001b[32m━━━━━━━━━━━━━━━━━━━━\u001b[0m\u001b[37m\u001b[0m \u001b[1m15s\u001b[0m 2ms/step - loss: 3.5648 - mean_absolute_error: 1.1739 - val_loss: 3.5507 - val_mean_absolute_error: 1.1166\n",
      "Epoch 50/50\n",
      "\u001b[1m8309/8309\u001b[0m \u001b[32m━━━━━━━━━━━━━━━━━━━━\u001b[0m\u001b[37m\u001b[0m \u001b[1m15s\u001b[0m 2ms/step - loss: 3.5883 - mean_absolute_error: 1.1720 - val_loss: 3.4604 - val_mean_absolute_error: 1.1312\n"
     ]
    }
   ],
   "source": [
    "history = model.fit(\n",
    "    X_train_scaled,\n",
    "    Y_train,\n",
    "    epochs=50,  # Adjust as needed\n",
    "    batch_size=32, # Adjust as needed\n",
    "    validation_split=0.2,  # Use part of training data for validation during training\n",
    "    verbose=1, # Set to 0 for less output, 1 for progress bar\n",
    "    callbacks=[keras.callbacks.EarlyStopping(monitor='val_loss', patience=10, restore_best_weights=True)]\n",
    ")"
   ]
  },
  {
   "cell_type": "markdown",
   "metadata": {},
   "source": [
    "# Evaluation"
   ]
  },
  {
   "cell_type": "code",
   "execution_count": 27,
   "metadata": {},
   "outputs": [
    {
     "name": "stdout",
     "output_type": "stream",
     "text": [
      "\u001b[1m2597/2597\u001b[0m \u001b[32m━━━━━━━━━━━━━━━━━━━━\u001b[0m\u001b[37m\u001b[0m \u001b[1m2s\u001b[0m 744us/step\n"
     ]
    }
   ],
   "source": [
    "y_pred_test = model.predict(X_test_scaled).flatten() "
   ]
  },
  {
   "cell_type": "code",
   "execution_count": 23,
   "metadata": {},
   "outputs": [],
   "source": [
    "loss, mae = model.evaluate(X_test_scaled, Y_val, verbose=0)"
   ]
  },
  {
   "cell_type": "code",
   "execution_count": 24,
   "metadata": {},
   "outputs": [
    {
     "data": {
      "text/plain": [
       "3.2880873680114746"
      ]
     },
     "execution_count": 24,
     "metadata": {},
     "output_type": "execute_result"
    }
   ],
   "source": [
    "loss"
   ]
  },
  {
   "cell_type": "code",
   "execution_count": 25,
   "metadata": {},
   "outputs": [
    {
     "data": {
      "text/plain": [
       "1.1273658275604248"
      ]
     },
     "execution_count": 25,
     "metadata": {},
     "output_type": "execute_result"
    }
   ],
   "source": [
    "mae"
   ]
  },
  {
   "cell_type": "code",
   "execution_count": 29,
   "metadata": {},
   "outputs": [
    {
     "data": {
      "text/plain": [
       "3.2880883930988687"
      ]
     },
     "execution_count": 29,
     "metadata": {},
     "output_type": "execute_result"
    }
   ],
   "source": [
    "mse_sklearn = mean_squared_error(Y_val, y_pred_test)\n",
    "mse_sklearn"
   ]
  },
  {
   "cell_type": "code",
   "execution_count": 30,
   "metadata": {},
   "outputs": [
    {
     "data": {
      "text/plain": [
       "1.813308686655107"
      ]
     },
     "execution_count": 30,
     "metadata": {},
     "output_type": "execute_result"
    }
   ],
   "source": [
    "rmse = np.sqrt(mse_sklearn)\n",
    "rmse"
   ]
  },
  {
   "cell_type": "code",
   "execution_count": 31,
   "metadata": {},
   "outputs": [
    {
     "data": {
      "text/plain": [
       "1.1273659413245005"
      ]
     },
     "execution_count": 31,
     "metadata": {},
     "output_type": "execute_result"
    }
   ],
   "source": [
    "mae_sklearn = mean_absolute_error(Y_val, y_pred_test)\n",
    "mae_sklearn"
   ]
  },
  {
   "cell_type": "code",
   "execution_count": 33,
   "metadata": {},
   "outputs": [],
   "source": [
    "def mean_absolute_percentage_error_manual(y_true, y_pred):\n",
    "    y_true, y_pred = np.array(y_true), np.array(y_pred)\n",
    "    return mean_absolute_percentage_error(y_true, y_pred) * 100 # as percentage"
   ]
  },
  {
   "cell_type": "code",
   "execution_count": 34,
   "metadata": {},
   "outputs": [
    {
     "data": {
      "text/plain": [
       "56.33133109919493"
      ]
     },
     "execution_count": 34,
     "metadata": {},
     "output_type": "execute_result"
    }
   ],
   "source": [
    "mape = mean_absolute_percentage_error_manual(Y_val, y_pred_test)\n",
    "mape"
   ]
  },
  {
   "cell_type": "code",
   "execution_count": null,
   "metadata": {},
   "outputs": [
    {
     "data": {
      "text/plain": [
       "0.44105519863987075"
      ]
     },
     "execution_count": 35,
     "metadata": {},
     "output_type": "execute_result"
    }
   ],
   "source": [
    "r2 = r2_score(Y_val, y_pred_test)\n",
    "r2"
   ]
  },
  {
   "cell_type": "code",
   "execution_count": 36,
   "metadata": {},
   "outputs": [
    {
     "name": "stdout",
     "output_type": "stream",
     "text": [
      "\n",
      "--- Quick Summary of Test Metrics ---\n",
      "  MSE:  3.2881\n",
      "  RMSE: 1.8133\n",
      "  MAE:  1.1274\n",
      "  MAPE: 56.33%\n",
      "  R²:   0.4411\n"
     ]
    }
   ],
   "source": [
    "print(\"\\n--- Quick Summary of Test Metrics ---\")\n",
    "print(f\"  MSE:  {mse_sklearn:.4f}\")\n",
    "print(f\"  RMSE: {rmse:.4f}\")\n",
    "print(f\"  MAE:  {mae_sklearn:.4f}\")\n",
    "print(f\"  MAPE: {mape:.2f}%\")\n",
    "print(f\"  R²:   {r2:.4f}\")"
   ]
  },
  {
   "cell_type": "code",
   "execution_count": 39,
   "metadata": {},
   "outputs": [
    {
     "data": {
      "image/png": "[encoded data removed]",
      "text/plain": [
       "<Figure size 1200x400 with 2 Axes>"
      ]
     },
     "metadata": {},
     "output_type": "display_data"
    }
   ],
   "source": [
    "plt.figure(figsize=(12, 4))\n",
    "plt.subplot(1, 2, 1)\n",
    "plt.plot(history.history['loss'], label='Train Loss (MSE)')\n",
    "plt.plot(history.history['val_loss'], label='Validation Loss (MSE)')\n",
    "plt.title('Model Loss')\n",
    "plt.ylabel('Loss (MSE)')\n",
    "plt.xlabel('Epoch')\n",
    "plt.legend()\n",
    "plt.grid(True)\n",
    "\n",
    "plt.subplot(1, 2, 2)\n",
    "plt.plot(history.history['mean_absolute_error'], label='Train MAE')\n",
    "plt.plot(history.history['val_mean_absolute_error'], label='Validation MAE')\n",
    "plt.title('Model Mean Absolute Error')\n",
    "plt.ylabel('MAE')\n",
    "plt.xlabel('Epoch')\n",
    "plt.legend()\n",
    "plt.grid(True)\n",
    "\n",
    "plt.tight_layout()\n",
    "plt.show()"
   ]
  }
 ],
 "metadata": {
  "kernelspec": {
   "display_name": ".venv",
   "language": "python",
   "name": "python3"
  },
  "language_info": {
   "codemirror_mode": {
    "name": "ipython",
    "version": 3
   },
   "file_extension": ".py",
   "mimetype": "text/x-python",
   "name": "python",
   "nbconvert_exporter": "python",
   "pygments_lexer": "ipython3",
   "version": "3.9.13"
  }
 },
 "nbformat": 4,
 "nbformat_minor": 2
}
